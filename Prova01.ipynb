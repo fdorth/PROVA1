{
 "cells": [
  {
   "cell_type": "code",
   "execution_count": 112,
   "id": "ef13e25c-4dc8-4cdf-8a58-ac5bff561d0a",
   "metadata": {},
   "outputs": [
    {
     "name": "stdout",
     "output_type": "stream",
     "text": [
      "4\n"
     ]
    }
   ],
   "source": [
    "class No:\n",
    "    def __init__(self, valor):\n",
    "        self.valor = valor\n",
    "        self.proximo = None\n",
    "\n",
    "class ListaEncadeada:\n",
    "    def __init__(self):\n",
    "        self.inicio = None\n",
    "\n",
    "    def inserir(self, valor):\n",
    "        novo_no = No(valor)\n",
    "        if self.inicio is None:\n",
    "            self.inicio = novo_no\n",
    "        else:\n",
    "            atual = self.inicio\n",
    "            while atual.proximo:\n",
    "                atual = atual.proximo\n",
    "            atual.proximo = novo_no\n",
    "\n",
    "    def contar(self):\n",
    "        qtdd = 1\n",
    "        atual = self.inicio\n",
    "        while atual.proximo:\n",
    "            atual = atual.proximo\n",
    "            qtdd = qtdd + 1\n",
    "        return qtdd\n",
    "\n",
    "\n",
    "l = ListaEncadeada()\n",
    "l.inserir(5)\n",
    "l.inserir(15)\n",
    "l.inserir(25)\n",
    "\n",
    "print(l.contar())"
   ]
  },
  {
   "cell_type": "code",
   "execution_count": null,
   "id": "718714d6-9a93-4030-8be8-4780fee6f212",
   "metadata": {},
   "outputs": [],
   "source": []
  }
 ],
 "metadata": {
  "kernelspec": {
   "display_name": "Python 3 (ipykernel)",
   "language": "python",
   "name": "python3"
  },
  "language_info": {
   "codemirror_mode": {
    "name": "ipython",
    "version": 3
   },
   "file_extension": ".py",
   "mimetype": "text/x-python",
   "name": "python",
   "nbconvert_exporter": "python",
   "pygments_lexer": "ipython3",
   "version": "3.13.5"
  }
 },
 "nbformat": 4,
 "nbformat_minor": 5
}
